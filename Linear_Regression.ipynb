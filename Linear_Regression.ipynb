{
  "nbformat": 4,
  "nbformat_minor": 0,
  "metadata": {
    "colab": {
      "name": "Linear_Regression.ipynb",
      "provenance": [],
      "authorship_tag": "ABX9TyP2ung/B/e5YtZ2UNv0eSm+",
      "include_colab_link": true
    },
    "kernelspec": {
      "name": "python3",
      "display_name": "Python 3"
    }
  },
  "cells": [
    {
      "cell_type": "markdown",
      "metadata": {
        "id": "view-in-github",
        "colab_type": "text"
      },
      "source": [
        "<a href=\"https://colab.research.google.com/github/ayush1804027/Ayush/blob/master/Linear_Regression.ipynb\" target=\"_parent\"><img src=\"https://colab.research.google.com/assets/colab-badge.svg\" alt=\"Open In Colab\"/></a>"
      ]
    },
    {
      "cell_type": "code",
      "metadata": {
        "id": "IjZ14LUR0D9W"
      },
      "source": [
        "import numpy as np\r\n",
        "import pandas as pd\r\n",
        "import matplotlib.pyplot as plt"
      ],
      "execution_count": 25,
      "outputs": []
    },
    {
      "cell_type": "code",
      "metadata": {
        "id": "hbF_DU1h0oPN"
      },
      "source": [
        "SEED=1234\r\n",
        "NUM_of_samples=50"
      ],
      "execution_count": 26,
      "outputs": []
    },
    {
      "cell_type": "code",
      "metadata": {
        "id": "CcxRf0Qb0xZ1"
      },
      "source": [
        "np.random.seed(SEED)"
      ],
      "execution_count": 27,
      "outputs": []
    },
    {
      "cell_type": "code",
      "metadata": {
        "id": "wwvEUXAe1Eb2"
      },
      "source": [
        "def generate_data(samples):\r\n",
        "  X=np.array(range(samples))\r\n",
        "  random_noise=np.random.uniform(-10,20,size=samples)\r\n",
        "  Y=3.5*X+random_noise\r\n",
        "  return X,Y"
      ],
      "execution_count": 28,
      "outputs": []
    },
    {
      "cell_type": "code",
      "metadata": {
        "colab": {
          "base_uri": "https://localhost:8080/"
        },
        "id": "o4DuZmZ32Kqy",
        "outputId": "91c24ca2-e566-4367-fa02-d5a59c1d77b8"
      },
      "source": [
        "X,Y=generate_data(samples=NUM_of_samples)\r\n",
        "data=np.vstack([X,Y]).T\r\n",
        "print(data[:5])"
      ],
      "execution_count": 31,
      "outputs": [
        {
          "output_type": "stream",
          "text": [
            "[[ 0.         13.01349885]\n",
            " [ 1.         14.74346086]\n",
            " [ 2.         20.90601551]\n",
            " [ 3.         17.23282485]\n",
            " [ 4.         32.97509596]]\n"
          ],
          "name": "stdout"
        }
      ]
    },
    {
      "cell_type": "code",
      "metadata": {
        "colab": {
          "base_uri": "https://localhost:8080/",
          "height": 196
        },
        "id": "0LqLWnzI33As",
        "outputId": "f0580f91-ade6-4962-83aa-9480f56d29d9"
      },
      "source": [
        "df=pd.DataFrame(data,columns=['X','Y'])\r\n",
        "X=df[['X']].values\r\n",
        "Y=df[['Y']].values\r\n",
        "df.head()"
      ],
      "execution_count": 32,
      "outputs": [
        {
          "output_type": "execute_result",
          "data": {
            "text/html": [
              "<div>\n",
              "<style scoped>\n",
              "    .dataframe tbody tr th:only-of-type {\n",
              "        vertical-align: middle;\n",
              "    }\n",
              "\n",
              "    .dataframe tbody tr th {\n",
              "        vertical-align: top;\n",
              "    }\n",
              "\n",
              "    .dataframe thead th {\n",
              "        text-align: right;\n",
              "    }\n",
              "</style>\n",
              "<table border=\"1\" class=\"dataframe\">\n",
              "  <thead>\n",
              "    <tr style=\"text-align: right;\">\n",
              "      <th></th>\n",
              "      <th>X</th>\n",
              "      <th>Y</th>\n",
              "    </tr>\n",
              "  </thead>\n",
              "  <tbody>\n",
              "    <tr>\n",
              "      <th>0</th>\n",
              "      <td>0.0</td>\n",
              "      <td>13.013499</td>\n",
              "    </tr>\n",
              "    <tr>\n",
              "      <th>1</th>\n",
              "      <td>1.0</td>\n",
              "      <td>14.743461</td>\n",
              "    </tr>\n",
              "    <tr>\n",
              "      <th>2</th>\n",
              "      <td>2.0</td>\n",
              "      <td>20.906016</td>\n",
              "    </tr>\n",
              "    <tr>\n",
              "      <th>3</th>\n",
              "      <td>3.0</td>\n",
              "      <td>17.232825</td>\n",
              "    </tr>\n",
              "    <tr>\n",
              "      <th>4</th>\n",
              "      <td>4.0</td>\n",
              "      <td>32.975096</td>\n",
              "    </tr>\n",
              "  </tbody>\n",
              "</table>\n",
              "</div>"
            ],
            "text/plain": [
              "     X          Y\n",
              "0  0.0  13.013499\n",
              "1  1.0  14.743461\n",
              "2  2.0  20.906016\n",
              "3  3.0  17.232825\n",
              "4  4.0  32.975096"
            ]
          },
          "metadata": {
            "tags": []
          },
          "execution_count": 32
        }
      ]
    },
    {
      "cell_type": "code",
      "metadata": {
        "colab": {
          "base_uri": "https://localhost:8080/",
          "height": 281
        },
        "id": "6mKmv2jz5NZ0",
        "outputId": "f308a306-2f71-4b2c-d9d6-0643df7dd58d"
      },
      "source": [
        "plt.title(\"Generated data\")\r\n",
        "plt.scatter(x=df['X'],y=df['Y'])\r\n",
        "plt.show()"
      ],
      "execution_count": 33,
      "outputs": [
        {
          "output_type": "display_data",
          "data": {
            "image/png": "[encoded data removed]",
            "text/plain": [
              "<Figure size 432x288 with 1 Axes>"
            ]
          },
          "metadata": {
            "tags": [],
            "needs_background": "light"
          }
        }
      ]
    },
    {
      "cell_type": "code",
      "metadata": {
        "id": "cHZhKw93526c"
      },
      "source": [
        "TRAIN_SIZE=0.70\r\n",
        "VAL_SIZE=0.15\r\n",
        "TEST_SIZE=0.15"
      ],
      "execution_count": 34,
      "outputs": []
    },
    {
      "cell_type": "code",
      "metadata": {
        "id": "lYVX7p346YxG"
      },
      "source": [
        "indices=list(range(NUM_of_samples))\r\n",
        "np.random.shuffle(indices)\r\n",
        "X=X[indices]\r\n",
        "Y=Y[indices]"
      ],
      "execution_count": 35,
      "outputs": []
    },
    {
      "cell_type": "code",
      "metadata": {
        "id": "iFOiDn5b7hxU"
      },
      "source": [
        "train_start=0\r\n",
        "train_end=int(0.7*NUM_of_samples)\r\n",
        "val_start=train_end\r\n",
        "val_end=int((TRAIN_SIZE+VAL_SIZE)*NUM_of_samples)\r\n",
        "test_start=val_end"
      ],
      "execution_count": 36,
      "outputs": []
    },
    {
      "cell_type": "code",
      "metadata": {
        "id": "zLrDl0Fj8ctA"
      },
      "source": [
        "X_train=X[train_start:train_end]\r\n",
        "Y_train=Y[train_start:train_end]\r\n",
        "X_val=X[val_start:val_end]\r\n",
        "Y_val=Y[val_start:val_end]\r\n",
        "X_test=X[test_start:]\r\n",
        "Y_test=Y[test_start:]\r\n"
      ],
      "execution_count": 37,
      "outputs": []
    },
    {
      "cell_type": "code",
      "metadata": {
        "colab": {
          "base_uri": "https://localhost:8080/"
        },
        "id": "nibuZmsQ8piB",
        "outputId": "c4e8bd2b-cd3a-48e6-92f8-f2f2077a0bf0"
      },
      "source": [
        "print(f\"X_train:{X_train.shape},Y_train:{Y_train.shape}\")\r\n",
        "print(f\"X_val:{X_val.shape},Y_val:{Y_val.shape}\")\r\n",
        "print(f\"X_test:{X_test.shape},Y_test:{Y_test.shape}\")"
      ],
      "execution_count": 38,
      "outputs": [
        {
          "output_type": "stream",
          "text": [
            "X_train:(35, 1),Y_train:(35, 1)\n",
            "X_val:(7, 1),Y_val:(7, 1)\n",
            "X_test:(8, 1),Y_test:(8, 1)\n"
          ],
          "name": "stdout"
        }
      ]
    },
    {
      "cell_type": "code",
      "metadata": {
        "id": "KZhYg2DO-Z1h"
      },
      "source": [
        "def standardize_data(data,mean,std):\r\n",
        "  return (data-mean)/std"
      ],
      "execution_count": 39,
      "outputs": []
    },
    {
      "cell_type": "code",
      "metadata": {
        "id": "jjQf6Pc6-2pI"
      },
      "source": [
        "X_mean=np.mean(X_train)\r\n",
        "X_std=np.std(X_train)\r\n",
        "Y_mean=np.mean(Y_train)\r\n",
        "Y_std=np.std(Y_train)"
      ],
      "execution_count": 40,
      "outputs": []
    },
    {
      "cell_type": "code",
      "metadata": {
        "id": "YlNi94kz_VXz"
      },
      "source": [
        "X_train=standardize_data(X_train,X_mean,X_std)\r\n",
        "Y_train=standardize_data(Y_train,Y_mean,Y_std)\r\n",
        "X_val=standardize_data(X_val,X_mean,X_std)\r\n",
        "Y_val=standardize_data(Y_val,Y_mean,Y_std)\r\n",
        "X_test=standardize_data(X_test,X_mean,X_std)\r\n",
        "Y_test=standardize_data(Y_test,Y_mean,Y_std)"
      ],
      "execution_count": 41,
      "outputs": []
    },
    {
      "cell_type": "code",
      "metadata": {
        "colab": {
          "base_uri": "https://localhost:8080/"
        },
        "id": "yiEAsQ4zBolz",
        "outputId": "35ce6254-2740-4808-982f-e85248443e39"
      },
      "source": [
        "# Check (means should be ~0 and std should be ~1)\r\n",
        "# Check (means should be ~0 and std should be ~1)\r\n",
        "print (f\"mean: {np.mean(X_test, axis=0)[0]:.1f}, std: {np.std(X_test, axis=0)[0]:.1f}\")\r\n",
        "print (f\"mean: {np.mean(Y_test, axis=0)[0]:.1f}, std: {np.std(Y_test, axis=0)[0]:.1f}\")"
      ],
      "execution_count": 42,
      "outputs": [
        {
          "output_type": "stream",
          "text": [
            "mean: 0.3, std: 1.0\n",
            "mean: 0.5, std: 0.9\n"
          ],
          "name": "stdout"
        }
      ]
    },
    {
      "cell_type": "code",
      "metadata": {
        "id": "HKvRywr-WCy4"
      },
      "source": [
        "INPUT_DIM = X_train.shape[1] # X is 1-dimensional\r\n",
        "OUTPUT_DIM = Y_train.shape[1] # y is 1-dimensional"
      ],
      "execution_count": 44,
      "outputs": []
    },
    {
      "cell_type": "code",
      "metadata": {
        "colab": {
          "base_uri": "https://localhost:8080/"
        },
        "id": "XhoSctsmWP03",
        "outputId": "d274938b-f64d-49f2-cf70-02e6108511b0"
      },
      "source": [
        "W = 0.01 * np.random.randn(INPUT_DIM, OUTPUT_DIM)\r\n",
        "b = np.zeros((1, 1))\r\n",
        "print (f\"W: {W.shape}\")\r\n",
        "print (f\"b: {b.shape}\")"
      ],
      "execution_count": 45,
      "outputs": [
        {
          "output_type": "stream",
          "text": [
            "W: (1, 1)\n",
            "b: (1, 1)\n"
          ],
          "name": "stdout"
        }
      ]
    },
    {
      "cell_type": "code",
      "metadata": {
        "colab": {
          "base_uri": "https://localhost:8080/"
        },
        "id": "c8iYkA-BWS81",
        "outputId": "486a58e2-0c27-4d69-ca83-1eaee2b42ebd"
      },
      "source": [
        "Y_pred = np.dot(X_train, W) + b\r\n",
        "print (f\"Y_pred: {Y_pred.shape}\")"
      ],
      "execution_count": 47,
      "outputs": [
        {
          "output_type": "stream",
          "text": [
            "Y_pred: (35, 1)\n"
          ],
          "name": "stdout"
        }
      ]
    },
    {
      "cell_type": "code",
      "metadata": {
        "colab": {
          "base_uri": "https://localhost:8080/"
        },
        "id": "jAWJLhYeWlOO",
        "outputId": "13ea0bbb-9f93-4ce4-cceb-edbbfdaa6354"
      },
      "source": [
        "N = len(Y_train)\r\n",
        "loss = (1/N) * np.sum((Y_train - Y_pred)**2)\r\n",
        "print (f\"loss: {loss:.2f}\")"
      ],
      "execution_count": 48,
      "outputs": [
        {
          "output_type": "stream",
          "text": [
            "loss: 1.02\n"
          ],
          "name": "stdout"
        }
      ]
    },
    {
      "cell_type": "code",
      "metadata": {
        "id": "qe7gkw_MWsCW"
      },
      "source": [
        "# Backpropagation\r\n",
        "dW = -(2/N) * np.sum((Y_train - Y_pred) * X_train)\r\n",
        "db = -(2/N) * np.sum((Y_train - Y_pred) * 1)"
      ],
      "execution_count": 50,
      "outputs": []
    },
    {
      "cell_type": "code",
      "metadata": {
        "id": "SjYLFKqeW8yD"
      },
      "source": [
        "LEARNING_RATE = 1e-1\r\n",
        "W += -LEARNING_RATE * dW\r\n",
        "b += -LEARNING_RATE * db"
      ],
      "execution_count": 51,
      "outputs": []
    },
    {
      "cell_type": "code",
      "metadata": {
        "colab": {
          "base_uri": "https://localhost:8080/"
        },
        "id": "SppjveSiXIPY",
        "outputId": "e2179cba-559d-446e-a6e2-97a428024762"
      },
      "source": [
        "NUM_EPOCHS = 100\r\n",
        "W = 0.01 * np.random.randn(INPUT_DIM, OUTPUT_DIM)\r\n",
        "b = np.zeros((1, ))\r\n",
        "\r\n",
        "# Training loop\r\n",
        "for epoch_num in range(NUM_EPOCHS):\r\n",
        "\r\n",
        "    # Forward pass [NX1] · [1X1] = [NX1]\r\n",
        "    Y_pred = np.dot(X_train, W) + b\r\n",
        "\r\n",
        "    # Loss\r\n",
        "    loss = (1/len(Y_train)) * np.sum((Y_train - Y_pred)**2)\r\n",
        "\r\n",
        "    # Show progress\r\n",
        "    if epoch_num%10 == 0:\r\n",
        "        print (f\"Epoch: {epoch_num}, loss: {loss:.3f}\")\r\n",
        "\r\n",
        "    # Backpropagation\r\n",
        "    dW = -(2/N) * np.sum((Y_train - Y_pred) * X_train)\r\n",
        "    db = -(2/N) * np.sum((Y_train - Y_pred) * 1)\r\n",
        "\r\n",
        "    # Update weights\r\n",
        "    W += -LEARNING_RATE * dW\r\n",
        "    b += -LEARNING_RATE * db"
      ],
      "execution_count": 52,
      "outputs": [
        {
          "output_type": "stream",
          "text": [
            "Epoch: 0, loss: 0.993\n",
            "Epoch: 10, loss: 0.044\n",
            "Epoch: 20, loss: 0.033\n",
            "Epoch: 30, loss: 0.033\n",
            "Epoch: 40, loss: 0.033\n",
            "Epoch: 50, loss: 0.033\n",
            "Epoch: 60, loss: 0.033\n",
            "Epoch: 70, loss: 0.033\n",
            "Epoch: 80, loss: 0.033\n",
            "Epoch: 90, loss: 0.033\n"
          ],
          "name": "stdout"
        }
      ]
    },
    {
      "cell_type": "code",
      "metadata": {
        "colab": {
          "base_uri": "https://localhost:8080/"
        },
        "id": "aPbWgXBDXxoc",
        "outputId": "86c3b2f0-da28-41ed-e5cc-e4b9ba1e3976"
      },
      "source": [
        "pred_train = W*X_train + b\r\n",
        "pred_test = W*X_test + b\r\n",
        "\r\n",
        "train_mse = np.mean((Y_train - pred_train) ** 2)\r\n",
        "test_mse = np.mean((Y_test - pred_test) ** 2)\r\n",
        "print (f\"train_MSE: {train_mse:.2f}, test_MSE: {test_mse:.2f}\")"
      ],
      "execution_count": 53,
      "outputs": [
        {
          "output_type": "stream",
          "text": [
            "train_MSE: 0.03, test_MSE: 0.06\n"
          ],
          "name": "stdout"
        }
      ]
    },
    {
      "cell_type": "code",
      "metadata": {
        "colab": {
          "base_uri": "https://localhost:8080/",
          "height": 336
        },
        "id": "Q1LW382fYD1D",
        "outputId": "6b080ffe-dcf4-40ac-bc97-d836c9a535df"
      },
      "source": [
        "plt.figure(figsize=(15,5))\r\n",
        "\r\n",
        "# Plot train data\r\n",
        "plt.subplot(1, 2, 1)\r\n",
        "plt.title(\"Train\")\r\n",
        "plt.scatter(X_train, Y_train, label='Y_train')\r\n",
        "plt.plot(X_train, pred_train, color='red', linewidth=1, linestyle='-', label='model')\r\n",
        "plt.legend(loc='lower right')\r\n",
        "\r\n",
        "# Plot test data\r\n",
        "plt.subplot(1, 2, 2)\r\n",
        "plt.title(\"Test\")\r\n",
        "plt.scatter(X_test, Y_test, label='Y_test')\r\n",
        "plt.plot(X_test, pred_test, color='red', linewidth=1, linestyle='-', label='model')\r\n",
        "plt.legend(loc='lower right')\r\n",
        "\r\n",
        "# Show plots\r\n",
        "plt.show()"
      ],
      "execution_count": 55,
      "outputs": [
        {
          "output_type": "display_data",
          "data": {
            "image/png": "[encoded data removed]",
            "text/plain": [
              "<Figure size 1080x360 with 2 Axes>"
            ]
          },
          "metadata": {
            "tags": [],
            "needs_background": "light"
          }
        }
      ]
    },
    {
      "cell_type": "code",
      "metadata": {
        "colab": {
          "base_uri": "https://localhost:8080/"
        },
        "id": "vWSRqsKFYdGY",
        "outputId": "229cabb6-1bae-4ba8-fe4d-fce3836c151e"
      },
      "source": [
        "W_unscaled = W * (Y_std/X_std)\r\n",
        "b_unscaled = b * Y_std + Y_mean - np.sum(W_unscaled*X_mean)\r\n",
        "print (\"[actual] Y = 3.5X + noise\")\r\n",
        "print (f\"[model] y_hat = {W_unscaled[0][0]:.1f}X + {b_unscaled[0]:.1f}\")"
      ],
      "execution_count": 56,
      "outputs": [
        {
          "output_type": "stream",
          "text": [
            "[actual] Y = 3.5X + noise\n",
            "[model] y_hat = 3.4X + 5.9\n"
          ],
          "name": "stdout"
        }
      ]
    }
  ]
}